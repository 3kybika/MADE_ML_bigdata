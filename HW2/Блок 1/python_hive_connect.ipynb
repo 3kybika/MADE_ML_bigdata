{
 "cells": [
  {
   "cell_type": "markdown",
   "id": "91b64d94",
   "metadata": {},
   "source": [
    "Пример коннекта к hive и выполнения запроса"
   ]
  },
  {
   "cell_type": "code",
   "execution_count": 68,
   "id": "529c56eb",
   "metadata": {},
   "outputs": [],
   "source": [
    "from pyhive import hive\n",
    "from pandas import DataFrame"
   ]
  },
  {
   "cell_type": "code",
   "execution_count": 69,
   "id": "cb3d364c",
   "metadata": {},
   "outputs": [],
   "source": [
    "conn = hive.Connection(host=\"localhost\", port=10000, username=\"hive\")"
   ]
  },
  {
   "cell_type": "code",
   "execution_count": 70,
   "id": "de95eb08",
   "metadata": {},
   "outputs": [
    {
     "data": {
      "text/html": [
       "<div>\n",
       "<style scoped>\n",
       "    .dataframe tbody tr th:only-of-type {\n",
       "        vertical-align: middle;\n",
       "    }\n",
       "\n",
       "    .dataframe tbody tr th {\n",
       "        vertical-align: top;\n",
       "    }\n",
       "\n",
       "    .dataframe thead th {\n",
       "        text-align: right;\n",
       "    }\n",
       "</style>\n",
       "<table border=\"1\" class=\"dataframe\">\n",
       "  <thead>\n",
       "    <tr style=\"text-align: right;\">\n",
       "      <th></th>\n",
       "      <th>artist_lastfm</th>\n",
       "      <th>listeners_lastfm</th>\n",
       "      <th>tags_lastfm</th>\n",
       "    </tr>\n",
       "  </thead>\n",
       "  <tbody>\n",
       "    <tr>\n",
       "      <th>0</th>\n",
       "      <td>Coldplay</td>\n",
       "      <td>5381567</td>\n",
       "      <td>rock; alternative; britpop; alternative rock; ...</td>\n",
       "    </tr>\n",
       "    <tr>\n",
       "      <th>1</th>\n",
       "      <td>Radiohead</td>\n",
       "      <td>4732528</td>\n",
       "      <td>alternative; alternative rock; rock; indie; el...</td>\n",
       "    </tr>\n",
       "    <tr>\n",
       "      <th>2</th>\n",
       "      <td>Red Hot Chili Peppers</td>\n",
       "      <td>4620835</td>\n",
       "      <td>rock; alternative rock; alternative; Funk Rock...</td>\n",
       "    </tr>\n",
       "    <tr>\n",
       "      <th>3</th>\n",
       "      <td>Rihanna</td>\n",
       "      <td>4558193</td>\n",
       "      <td>pop; rnb; female vocalists; dance; Hip-Hop; Ri...</td>\n",
       "    </tr>\n",
       "    <tr>\n",
       "      <th>4</th>\n",
       "      <td>Eminem</td>\n",
       "      <td>4517997</td>\n",
       "      <td>rap; Hip-Hop; Eminem; hip hop; pop; american; ...</td>\n",
       "    </tr>\n",
       "  </tbody>\n",
       "</table>\n",
       "</div>"
      ],
      "text/plain": [
       "           artist_lastfm  listeners_lastfm  \\\n",
       "0               Coldplay           5381567   \n",
       "1              Radiohead           4732528   \n",
       "2  Red Hot Chili Peppers           4620835   \n",
       "3                Rihanna           4558193   \n",
       "4                 Eminem           4517997   \n",
       "\n",
       "                                         tags_lastfm  \n",
       "0  rock; alternative; britpop; alternative rock; ...  \n",
       "1  alternative; alternative rock; rock; indie; el...  \n",
       "2  rock; alternative rock; alternative; Funk Rock...  \n",
       "3  pop; rnb; female vocalists; dance; Hip-Hop; Ri...  \n",
       "4  rap; Hip-Hop; Eminem; hip hop; pop; american; ...  "
      ]
     },
     "execution_count": 70,
     "metadata": {},
     "output_type": "execute_result"
    }
   ],
   "source": [
    "cursor.execute(\"\"\"\n",
    "    SELECT\n",
    "        artist_lastfm,\n",
    "        listeners_lastfm,\n",
    "        tags_lastfm\n",
    "    FROM artists\n",
    "    LIMIT 10\n",
    "\"\"\")\n",
    "\n",
    "\n",
    "df = DataFrame(cursor.fetchall())\n",
    "df.columns = [col_descr[0] for col_descr in cursor._description]\n",
    "df.head()"
   ]
  },
  {
   "cell_type": "code",
   "execution_count": null,
   "id": "fceb1772",
   "metadata": {},
   "outputs": [],
   "source": []
  }
 ],
 "metadata": {
  "kernelspec": {
   "display_name": "Python 3 (ipykernel)",
   "language": "python",
   "name": "python3"
  },
  "language_info": {
   "codemirror_mode": {
    "name": "ipython",
    "version": 3
   },
   "file_extension": ".py",
   "mimetype": "text/x-python",
   "name": "python",
   "nbconvert_exporter": "python",
   "pygments_lexer": "ipython3",
   "version": "3.9.12"
  }
 },
 "nbformat": 4,
 "nbformat_minor": 5
}
