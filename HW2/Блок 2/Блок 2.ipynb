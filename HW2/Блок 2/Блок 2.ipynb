{
 "cells": [
  {
   "cell_type": "markdown",
   "id": "3a083acd",
   "metadata": {},
   "source": [
    "# Блок 2. Работа с Hive"
   ]
  },
  {
   "cell_type": "markdown",
   "id": "48998a43",
   "metadata": {},
   "source": [
    "Cкачиваем данные, затем заливаем их в hdfs:\n",
    "\n",
    "<pre>bash-5.0# (base) <font color=\"#26A269\"><b>alex@alex-pc</b></font>:<font color=\"#12488B\"><b>~/project/made/3_sem/ML_BD/HW2/HW2</b></font>$ \n",
    "docker cp ./artists.csv docker-hadoop-hive-parquet_namenode_1:/artists.csv\n",
    "</pre>"
   ]
  },
  {
   "cell_type": "markdown",
   "id": "925f186a",
   "metadata": {},
   "source": [
    "<pre>bash-5.0# (base) <font color=\"#26A269\"><b>alex@alex-pc</b></font>:<font color=\"#12488B\"><b>~</b></font>$ docker exec -it docker-hadoop-hive-parquet_namenode_1  /bin/bash\n",
    "root@26d99d579f51:/# hdfs dfs -ls\n",
    "ls: `.&apos;: No such file or directory\n",
    "root@26d99d579f51:/# hdfs dfs -ls /\n",
    "Found 3 items\n",
    "drwxr-xr-x   - root supergroup          0 2022-10-26 12:02 /rmstate\n",
    "drwxrwxr-x   - root supergroup          0 2022-10-26 12:02 /tmp\n",
    "drwxr-xr-x   - root supergroup          0 2022-10-26 12:02 /user\n",
    "root@26d99d579f51:/# hdfs dfs -ls /user\n",
    "Found 2 items\n",
    "drwxr-xr-x   - root supergroup          0 2022-10-26 12:02 /user/hive\n",
    "drwxr-xr-x   - hue  hue                 0 2022-10-26 12:02 /user/hue\n",
    "root@26d99d579f51:/# hdfs dfs -ls /user/root\n",
    "ls: `/user/root&apos;: No such file or directory\n",
    "root@26d99d579f51:/# hdfs dfs -ls /user/hive\n",
    "Found 1 items\n",
    "drwxrwxr-x   - root supergroup          0 2022-10-26 12:02 /user/hive/warehouse\n",
    "root@26d99d579f51:/# hdfs dfs -ls /\n",
    "Found 3 items\n",
    "drwxr-xr-x   - root supergroup          0 2022-10-26 12:02 /rmstate\n",
    "drwxrwxr-x   - root supergroup          0 2022-10-26 12:02 /tmp\n",
    "drwxr-xr-x   - root supergroup          0 2022-10-26 12:02 /user\n",
    "root@26d99d579f51:/# hdfs dfs -mkdir /data\n",
    "root@26d99d579f51:/# ls\n",
    "artists.csv  bin  boot\tdev  entrypoint.sh  etc  hadoop  hadoop-data  home  lib  lib64\tmedia  mnt  opt  proc  root  run  run.sh  sbin\tsrv  sys  tmp  usr  var\n",
    "root@26d99d579f51:/# hdfs dfs -mkdir /data/artists\n",
    "root@26d99d579f51:/# hdfs dfs -copyFromLocal artists.csv /data/artists/\n",
    "root@26d99d579f51:/# ^D\n",
    "</pre>"
   ]
  },
  {
   "cell_type": "markdown",
   "id": "0a53e355",
   "metadata": {},
   "source": [
    "<pre>(base) <font color=\"#26A269\"><b>alex@alex-pc</b></font>:<font color=\"#12488B\"><b>~/project/made/3_sem/ML_BD/HW2</b></font>$ docker exec -it docker-hadoop-hive-parquet_hive-server_1  /bin/bash\n",
    "root@fd09d00c8449:/opt# hive\n",
    "SLF4J: Class path contains multiple SLF4J bindings.\n",
    "SLF4J: Found binding in [jar:file:/opt/hive/lib/log4j-slf4j-impl-2.6.2.jar!/org/slf4j/impl/StaticLoggerBinder.class]\n",
    "SLF4J: Found binding in [jar:file:/opt/hadoop-2.7.4/share/hadoop/common/lib/slf4j-log4j12-1.7.10.jar!/org/slf4j/impl/StaticLoggerBinder.class]\n",
    "SLF4J: See http://www.slf4j.org/codes.html#multiple_bindings for an explanation.\n",
    "SLF4J: Actual binding is of type [org.apache.logging.slf4j.Log4jLoggerFactory]\n",
    "\n",
    "Logging initialized using configuration in file:/opt/hive/conf/hive-log4j2.properties Async: true\n",
    "Hive-on-MR is deprecated in Hive 2 and may not be available in the future versions. Consider using a different execution engine (i.e. spark, tez) or using Hive 1.X releases.\n",
    "hive&gt; \n",
    "</pre>"
   ]
  },
  {
   "cell_type": "code",
   "execution_count": 7,
   "id": "88c8a701",
   "metadata": {},
   "outputs": [
    {
     "name": "stderr",
     "output_type": "stream",
     "text": [
      "/tmp/ipykernel_1195880/3971229544.py:2: DtypeWarning: Columns (2,4,6) have mixed types. Specify dtype option on import or set low_memory=False.\n",
      "  df = pd.read_csv(\"../artists.csv\")\n"
     ]
    },
    {
     "data": {
      "text/html": [
       "<div>\n",
       "<style scoped>\n",
       "    .dataframe tbody tr th:only-of-type {\n",
       "        vertical-align: middle;\n",
       "    }\n",
       "\n",
       "    .dataframe tbody tr th {\n",
       "        vertical-align: top;\n",
       "    }\n",
       "\n",
       "    .dataframe thead th {\n",
       "        text-align: right;\n",
       "    }\n",
       "</style>\n",
       "<table border=\"1\" class=\"dataframe\">\n",
       "  <thead>\n",
       "    <tr style=\"text-align: right;\">\n",
       "      <th></th>\n",
       "      <th>mbid</th>\n",
       "      <th>artist_mb</th>\n",
       "      <th>artist_lastfm</th>\n",
       "      <th>country_mb</th>\n",
       "      <th>country_lastfm</th>\n",
       "      <th>tags_mb</th>\n",
       "      <th>tags_lastfm</th>\n",
       "      <th>listeners_lastfm</th>\n",
       "      <th>scrobbles_lastfm</th>\n",
       "      <th>ambiguous_artist</th>\n",
       "    </tr>\n",
       "  </thead>\n",
       "  <tbody>\n",
       "    <tr>\n",
       "      <th>0</th>\n",
       "      <td>cc197bad-dc9c-440d-a5b5-d52ba2e14234</td>\n",
       "      <td>Coldplay</td>\n",
       "      <td>Coldplay</td>\n",
       "      <td>United Kingdom</td>\n",
       "      <td>United Kingdom</td>\n",
       "      <td>rock; pop; alternative rock; british; uk; brit...</td>\n",
       "      <td>rock; alternative; britpop; alternative rock; ...</td>\n",
       "      <td>5381567.0</td>\n",
       "      <td>360111850.0</td>\n",
       "      <td>False</td>\n",
       "    </tr>\n",
       "    <tr>\n",
       "      <th>1</th>\n",
       "      <td>a74b1b7f-71a5-4011-9441-d0b5e4122711</td>\n",
       "      <td>Radiohead</td>\n",
       "      <td>Radiohead</td>\n",
       "      <td>United Kingdom</td>\n",
       "      <td>United Kingdom</td>\n",
       "      <td>rock; electronic; alternative rock; british; g...</td>\n",
       "      <td>alternative; alternative rock; rock; indie; el...</td>\n",
       "      <td>4732528.0</td>\n",
       "      <td>499548797.0</td>\n",
       "      <td>False</td>\n",
       "    </tr>\n",
       "    <tr>\n",
       "      <th>2</th>\n",
       "      <td>8bfac288-ccc5-448d-9573-c33ea2aa5c30</td>\n",
       "      <td>Red Hot Chili Peppers</td>\n",
       "      <td>Red Hot Chili Peppers</td>\n",
       "      <td>United States</td>\n",
       "      <td>United States</td>\n",
       "      <td>rock; alternative rock; 80s; 90s; rap; metal; ...</td>\n",
       "      <td>rock; alternative rock; alternative; Funk Rock...</td>\n",
       "      <td>4620835.0</td>\n",
       "      <td>293784041.0</td>\n",
       "      <td>False</td>\n",
       "    </tr>\n",
       "    <tr>\n",
       "      <th>3</th>\n",
       "      <td>73e5e69d-3554-40d8-8516-00cb38737a1c</td>\n",
       "      <td>Rihanna</td>\n",
       "      <td>Rihanna</td>\n",
       "      <td>United States</td>\n",
       "      <td>Barbados; United States</td>\n",
       "      <td>pop; dance; hip hop; reggae; contemporary r b;...</td>\n",
       "      <td>pop; rnb; female vocalists; dance; Hip-Hop; Ri...</td>\n",
       "      <td>4558193.0</td>\n",
       "      <td>199248986.0</td>\n",
       "      <td>False</td>\n",
       "    </tr>\n",
       "    <tr>\n",
       "      <th>4</th>\n",
       "      <td>b95ce3ff-3d05-4e87-9e01-c97b66af13d4</td>\n",
       "      <td>Eminem</td>\n",
       "      <td>Eminem</td>\n",
       "      <td>United States</td>\n",
       "      <td>United States</td>\n",
       "      <td>turkish; rap; american; hip-hop; hip hop; hiph...</td>\n",
       "      <td>rap; Hip-Hop; Eminem; hip hop; pop; american; ...</td>\n",
       "      <td>4517997.0</td>\n",
       "      <td>199507511.0</td>\n",
       "      <td>False</td>\n",
       "    </tr>\n",
       "  </tbody>\n",
       "</table>\n",
       "</div>"
      ],
      "text/plain": [
       "                                   mbid              artist_mb  \\\n",
       "0  cc197bad-dc9c-440d-a5b5-d52ba2e14234               Coldplay   \n",
       "1  a74b1b7f-71a5-4011-9441-d0b5e4122711              Radiohead   \n",
       "2  8bfac288-ccc5-448d-9573-c33ea2aa5c30  Red Hot Chili Peppers   \n",
       "3  73e5e69d-3554-40d8-8516-00cb38737a1c                Rihanna   \n",
       "4  b95ce3ff-3d05-4e87-9e01-c97b66af13d4                 Eminem   \n",
       "\n",
       "           artist_lastfm      country_mb           country_lastfm  \\\n",
       "0               Coldplay  United Kingdom           United Kingdom   \n",
       "1              Radiohead  United Kingdom           United Kingdom   \n",
       "2  Red Hot Chili Peppers   United States            United States   \n",
       "3                Rihanna   United States  Barbados; United States   \n",
       "4                 Eminem   United States            United States   \n",
       "\n",
       "                                             tags_mb  \\\n",
       "0  rock; pop; alternative rock; british; uk; brit...   \n",
       "1  rock; electronic; alternative rock; british; g...   \n",
       "2  rock; alternative rock; 80s; 90s; rap; metal; ...   \n",
       "3  pop; dance; hip hop; reggae; contemporary r b;...   \n",
       "4  turkish; rap; american; hip-hop; hip hop; hiph...   \n",
       "\n",
       "                                         tags_lastfm  listeners_lastfm  \\\n",
       "0  rock; alternative; britpop; alternative rock; ...         5381567.0   \n",
       "1  alternative; alternative rock; rock; indie; el...         4732528.0   \n",
       "2  rock; alternative rock; alternative; Funk Rock...         4620835.0   \n",
       "3  pop; rnb; female vocalists; dance; Hip-Hop; Ri...         4558193.0   \n",
       "4  rap; Hip-Hop; Eminem; hip hop; pop; american; ...         4517997.0   \n",
       "\n",
       "   scrobbles_lastfm  ambiguous_artist  \n",
       "0       360111850.0             False  \n",
       "1       499548797.0             False  \n",
       "2       293784041.0             False  \n",
       "3       199248986.0             False  \n",
       "4       199507511.0             False  "
      ]
     },
     "execution_count": 7,
     "metadata": {},
     "output_type": "execute_result"
    }
   ],
   "source": [
    "import pandas as pd\n",
    "\n",
    "df = pd.read_csv(\"../artists.csv\")\n",
    "df.head()"
   ]
  },
  {
   "cell_type": "markdown",
   "id": "605375ac",
   "metadata": {},
   "source": [
    "# Задание 1\n",
    "Сделать таблицу artists в Hive и вставить туда значения, используя датасет\n",
    "https://www.kaggle.com/pieca111/music-artists-popularity - 15 баллов"
   ]
  },
  {
   "cell_type": "markdown",
   "id": "5b0462ef",
   "metadata": {},
   "source": [
    "```\n",
    "DROP TABLE IF EXISTS artists;\n",
    "\n",
    "CREATE EXTERNAL TABLE artists (\n",
    "    mbid             string,\n",
    "    artist_mb        string,\n",
    "    artist_lastfm    string,\n",
    "    country_mb       string,\n",
    "    country_lastfm   string,\n",
    "    tags_mb          string,\n",
    "    tags_lastfm      string,\n",
    "    listeners_lastfm int,\n",
    "    scrobbles_lastfm int,\n",
    "    ambiguous_artist boolean\n",
    ")\n",
    "ROW FORMAT DELIMITED\n",
    "FIELDS TERMINATED BY ','\n",
    "LOCATION '/data/artists'\n",
    "TBLPROPERTIES(\"skip.header.line.count\"=\"1\");\n",
    "```"
   ]
  },
  {
   "cell_type": "markdown",
   "id": "e8090eef",
   "metadata": {},
   "source": [
    "# Задание 2\n",
    "Используя Hive, найти (команды и результаты записать в файл и добавить в\n",
    "репозиторий):"
   ]
  },
  {
   "cell_type": "markdown",
   "id": "f499e0be",
   "metadata": {},
   "source": [
    "## a) Исполнителя с максимальным числом скробблов - 5 баллов"
   ]
  },
  {
   "cell_type": "markdown",
   "id": "098e144a",
   "metadata": {},
   "source": [
    "```\n",
    "SELECT artist_mb \n",
    "FROM artists\n",
    "WHERE scrobbles_lastfm in (\n",
    "    SELECT MAX(scrobbles_lastfm) FROM artists\n",
    ");\n",
    "```"
   ]
  },
  {
   "cell_type": "markdown",
   "id": "96dd45ae",
   "metadata": {},
   "source": [
    "<pre>Total MapReduce CPU Time Spent: 0 msec\n",
    "OK\n",
    "The Beatles\n",
    "Time taken: 9.239 seconds, Fetched: 1 row(s)\n",
    "</pre>"
   ]
  },
  {
   "cell_type": "markdown",
   "id": "12f4428b",
   "metadata": {},
   "source": [
    "Ответ - The Beatles"
   ]
  },
  {
   "cell_type": "markdown",
   "id": "f7956c43",
   "metadata": {},
   "source": [
    "## b) Самый популярный тэг на ластфм - 10 баллов"
   ]
  },
  {
   "cell_type": "markdown",
   "id": "c522d927",
   "metadata": {},
   "source": [
    "```\n",
    "WITH tag_listeners_cnt_view AS (\n",
    "    SELECT\n",
    "        artist_lastfm,\n",
    "        listeners_lastfm,\n",
    "        tag_lastfm\n",
    "    FROM artists\n",
    "    LATERAL VIEW explode(split(tags_lastfm, '; ')) exploded AS tag_lastfm\n",
    ")\n",
    "\n",
    "SELECT\n",
    "    tag_lastfm,\n",
    "    sum(listeners_lastfm) AS cnt_listeners_lastfm\n",
    "FROM tag_listeners_cnt_view\n",
    "GROUP BY tag_lastfm\n",
    "SORT BY cnt_listeners_lastfm DESC\n",
    "LIMIT 1;\n",
    "```"
   ]
  },
  {
   "cell_type": "markdown",
   "id": "33f968c0",
   "metadata": {},
   "source": [
    "<pre>OK\n",
    "seen live\t4044163707\n",
    "Time taken: 9.493 seconds, Fetched: 1 row(s)\n",
    "</pre>"
   ]
  },
  {
   "cell_type": "markdown",
   "id": "73e82fa5",
   "metadata": {},
   "source": [
    "Ответ - seen live"
   ]
  },
  {
   "cell_type": "markdown",
   "id": "9a2b00fb",
   "metadata": {},
   "source": [
    "__Примечачние:__  \n",
    "Для вычисления популярности использовалось поле listeners_lastfm без скробблов."
   ]
  },
  {
   "cell_type": "markdown",
   "id": "83645369",
   "metadata": {},
   "source": [
    "## c) Самые популярные исполнители 10 самых популярных тегов ластфм - 10 баллов"
   ]
  },
  {
   "cell_type": "markdown",
   "id": "a2241bf1",
   "metadata": {},
   "source": [
    "```\n",
    "WITH \n",
    "    tag_listeners_cnt_view AS (\n",
    "        SELECT\n",
    "            listeners_lastfm,\n",
    "            tag_lastfm\n",
    "        FROM artists\n",
    "        LATERAL VIEW explode(split(tags_lastfm, '; ')) exploded AS tag_lastfm\n",
    "    ),\n",
    "    top_10_tag AS (\n",
    "        SELECT\n",
    "            tag_lastfm,\n",
    "            sum(listeners_lastfm) AS cnt_listeners_lastfm\n",
    "        FROM tag_listeners_cnt_view\n",
    "        GROUP BY tag_lastfm\n",
    "        SORT BY cnt_listeners_lastfm DESC\n",
    "        LIMIT 10\n",
    "    ),\n",
    "    artists_tags AS (\n",
    "        SELECT\n",
    "            mbid,\n",
    "            artist_lastfm,\n",
    "            listeners_lastfm,\n",
    "            tag_lastfm\n",
    "        FROM artists\n",
    "        LATERAL VIEW explode(split(tags_lastfm, '; ')) exploded AS tag_lastfm\n",
    "    ),\n",
    "    mbid_top AS (\n",
    "        SELECT \n",
    "            /*+ MAPJOIN(top_10_tag) */\n",
    "            mbid,\n",
    "            artist_lastfm,\n",
    "            listeners_lastfm\n",
    "        FROM artists_tags AS a_t\n",
    "        INNER JOIN top_10_tag AS t ON t.tag_lastfm = a_t.tag_lastfm\n",
    "        GROUP BY mbid, artist_lastfm, listeners_lastfm\n",
    "    )\n",
    "SELECT\n",
    "    artist_lastfm,\n",
    "    sum(listeners_lastfm) AS cnt_listeners_lastfm\n",
    "FROM mbid_top\n",
    "GROUP BY artist_lastfm\n",
    "SORT BY cnt_listeners_lastfm DESC\n",
    "LIMIT 10;\n",
    "```"
   ]
  },
  {
   "cell_type": "markdown",
   "id": "0d1e3508",
   "metadata": {},
   "source": [
    "<pre>OK\n",
    "Phoenix\t28424886\n",
    "Chris Brown\t13124285\n",
    "John Williams\t9627944\n",
    "Passenger\t6499619\n",
    "Bliss\t6380338\n",
    "Feist\t5900148\n",
    "Plan B\t5507433\n",
    "Coldplay\t5381567\n",
    "Jet\t5262465\n",
    "Sebastian\t4885461\n",
    "Time taken: 24.651 seconds, Fetched: 10 row(s)\n",
    "</pre>"
   ]
  },
  {
   "cell_type": "markdown",
   "id": "3292ca6d",
   "metadata": {},
   "source": [
    "## d) Любой другой инсайт на ваше усмотрение - 10 баллов"
   ]
  },
  {
   "cell_type": "markdown",
   "id": "ed44b997",
   "metadata": {},
   "source": [
    "Мы ни разу не использовали поля стран.\n",
    "Вывести топ 10 исполнителей, согласно их полурности listeners_lastfm в стране \"United Kingdom\":"
   ]
  },
  {
   "cell_type": "markdown",
   "id": "3b8a803a",
   "metadata": {},
   "source": [
    "```\n",
    "SELECT\n",
    "    artist_lastfm,\n",
    "    sum(listeners_lastfm) as cnt_listeners_lastfm\n",
    "FROM artists\n",
    "GROUP BY artist_lastfm, country_mb\n",
    "HAVING country_mb = \"United Kingdom\"\n",
    "SORT BY cnt_listeners_lastfm DESC\n",
    "LIMIT 10;\n",
    "```"
   ]
  },
  {
   "cell_type": "markdown",
   "id": "e2b719c7",
   "metadata": {},
   "source": [
    "<pre>OK\n",
    "Coldplay\t5381567\n",
    "Radiohead\t4732528\n",
    "Muse\t4089612\n",
    "Queen\t4023379\n",
    "The Rolling Stones\t3798330\n",
    "The Beatles\t3674017\n",
    "Oasis\t3592076\n",
    "Gorillaz\t3577998\n",
    "Arctic Monkeys\t3501680\n",
    "David Bowie\t3354711\n",
    "Time taken: 4.452 seconds, Fetched: 10 row(s)\n",
    "</pre>"
   ]
  },
  {
   "cell_type": "code",
   "execution_count": null,
   "id": "3292353d",
   "metadata": {},
   "outputs": [],
   "source": []
  }
 ],
 "metadata": {
  "kernelspec": {
   "display_name": "Python 3 (ipykernel)",
   "language": "python",
   "name": "python3"
  },
  "language_info": {
   "codemirror_mode": {
    "name": "ipython",
    "version": 3
   },
   "file_extension": ".py",
   "mimetype": "text/x-python",
   "name": "python",
   "nbconvert_exporter": "python",
   "pygments_lexer": "ipython3",
   "version": "3.9.12"
  }
 },
 "nbformat": 4,
 "nbformat_minor": 5
}
