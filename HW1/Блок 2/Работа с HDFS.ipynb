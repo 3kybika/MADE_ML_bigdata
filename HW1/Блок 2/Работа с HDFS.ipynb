{
 "cells": [
  {
   "cell_type": "markdown",
   "id": "7d80a77b",
   "metadata": {},
   "source": [
    "# Работа с HDFS"
   ]
  },
  {
   "cell_type": "markdown",
   "id": "135ca8ba",
   "metadata": {},
   "source": [
    "# Работа с HDFS"
   ]
  },
  {
   "cell_type": "code",
   "execution_count": null,
   "id": "2a62cd9b",
   "metadata": {},
   "outputs": [],
   "source": [
    "См. флаги “-mkdir” и “-touchz“\n",
    "1. [2 балла] Создайте папку в корневой HDFS-папке\n",
    "2. [2 балла] Создайте в созданной папке новую вложенную папку.\n",
    "3. [3 балла] Что такое Trash в распределенной FS? Как сделать так, чтобы файлы удалялись сразу, минуя “Trash”?\n",
    "4. [2 балла] Создайте пустой файл в подпапке из пункта 2.\n",
    "5. [2 балла] Удалите созданный файл.\n",
    "6. [2 балла] Удалите созданные папки.\n",
    "См. флаги “-put”, “-cat”, “-tail”, “-cp”\n",
    "1. [3 балла] Скопируйте любой в новую папку на HDFS\n",
    "2. [3 балла] Выведите содержимое HDFS-файла на экран.\n",
    "3. [3 балла] Выведите содержимое нескольких последних строчек HDFS-файла на экран.\n",
    "4. [3 балла] Выведите содержимое нескольких первых строчек HDFS-файла на экран.\n",
    "5. [3 балла] Переместите копию файла в HDFS на новую локацию."
   ]
  },
  {
   "cell_type": "markdown",
   "id": "1c08cf65",
   "metadata": {},
   "source": [
    "0. Подключаемся к контейнеру неймноды"
   ]
  },
  {
   "cell_type": "markdown",
   "id": "665fbef5",
   "metadata": {},
   "source": [
    "```(base) alex@alex-pc:~$ docker exec -it namenode /bin/bash  \n",
    "root@40061371a4a7:/# ```  "
   ]
  },
  {
   "cell_type": "markdown",
   "id": "f3ab3105",
   "metadata": {},
   "source": [
    "# Часть 1\n",
    "Все следующие задачи используют консольную утилиту “hdfs dfs”. Чтобы получить документацию / подсказку по\n",
    "HDFS-утилите или флагу, можно набрать:  \n",
    "● hdfs dfs -usage  \n",
    "● hdfs dfs -help"
   ]
  },
  {
   "cell_type": "markdown",
   "id": "4706aa62",
   "metadata": {},
   "source": [
    "## 1. [2 балла] Создайте папку в корневой HDFS-папке"
   ]
  },
  {
   "cell_type": "markdown",
   "id": "668ee7be",
   "metadata": {},
   "source": [
    "`hdfs dfs -mkdir -p /test_dir`"
   ]
  },
  {
   "cell_type": "markdown",
   "id": "1cfba342",
   "metadata": {},
   "source": [
    "<pre>root@40061371a4a7:/# hdfs dfs -mkdir -p /test_dir\n",
    "root@40061371a4a7:/# hdfs dfs -ls  /\n",
    "Found 3 items\n",
    "drwxr-xr-x   - root supergroup          0 2022-10-23 14:56 /rmstate\n",
    "drwxr-xr-x   - root supergroup          0 2022-10-23 22:08 /test_dir\n",
    "drwxr-xr-x   - root supergroup          0 2022-10-23 19:58 /user\n",
    "root@40061371a4a7:/# \n",
    "</pre>"
   ]
  },
  {
   "cell_type": "markdown",
   "id": "5ef75370",
   "metadata": {},
   "source": [
    "## 2. [2 балла] Создайте в созданной папке новую вложенную папку."
   ]
  },
  {
   "cell_type": "markdown",
   "id": "00834192",
   "metadata": {},
   "source": [
    "`hdfs dfs -mkdir /test_dir/inner_dir`"
   ]
  },
  {
   "cell_type": "markdown",
   "id": "06e30137",
   "metadata": {},
   "source": [
    "<pre>root@40061371a4a7:/# hdfs dfs -mkdir /test_dir/inner_dir\n",
    "root@40061371a4a7:/# hdfs dfs -ls /test_dir          \n",
    "Found 1 items\n",
    "drwxr-xr-x   - root supergroup          0 2022-10-23 20:14 /test_dir/inner_dir\n",
    "root@40061371a4a7:/# \n",
    "</pre>"
   ]
  },
  {
   "cell_type": "markdown",
   "id": "1497a327",
   "metadata": {},
   "source": [
    "## 3. [3 балла] Что такое Trash в распределенной FS? Как сделать так, чтобы файлы удалялись сразу, минуя “Trash”?"
   ]
  },
  {
   "cell_type": "markdown",
   "id": "c994b525",
   "metadata": {},
   "source": [
    "Trash - папка в которую попадают удаленные файлы, для того, чтобы был некоторый промежуток времени, в который  можно было восстановить удаленные файлы, если это будет необходимо. При дуалении файла из папки .trash `/user/<username>/.Trash/<current dir>` файлик будет полностью удален.  \n",
    "При использовании флага `-skipTrash` - комада `hdfs dfs -rm -skipTrash` удалит файлы минуя корзину.  \n",
    "Также можно сконфигурировать `core-site.xml` так, чтобы при удалении файлы уничтожались безвозхвратно, минуя корзину:\n",
    "```<property>\n",
    "    <name>fs.trash.checkpoint.interval</name>\n",
    "    <value>0</value>\n",
    "    <final>false</final>\n",
    "    <source>core-default.xml</source>\n",
    "</property>\n",
    "<property>\n",
    "    <name>fs.trash.interval</name>\n",
    "    <value>0</value>\n",
    "    <final>false</final>\n",
    "    <source>core-default.xml</source>\n",
    "</property>```"
   ]
  },
  {
   "cell_type": "markdown",
   "id": "d8dba74e",
   "metadata": {},
   "source": [
    "## 4. [2 балла] Создайте пустой файл в подпапке из пункта 2."
   ]
  },
  {
   "cell_type": "markdown",
   "id": "b1f820eb",
   "metadata": {},
   "source": [
    "`hdfs dfs -touchz /test_dir/inner_dir/test.txt`"
   ]
  },
  {
   "cell_type": "markdown",
   "id": "33ec0b83",
   "metadata": {},
   "source": [
    "## 5. [2 балла] Удалите созданный файл."
   ]
  },
  {
   "cell_type": "markdown",
   "id": "71bb2464",
   "metadata": {},
   "source": [
    "`hdfs dfs -rm  /test_dir/inner_dir/test.txt`"
   ]
  },
  {
   "cell_type": "markdown",
   "id": "c8308ef6",
   "metadata": {},
   "source": [
    "<pre>root@40061371a4a7:/# hdfs dfs -rm  /test_dir/inner_dir/test.txt\n",
    "Deleted /test_dir/inner_dir/test.txt\n",
    "</pre>"
   ]
  },
  {
   "cell_type": "markdown",
   "id": "969f39ee",
   "metadata": {},
   "source": [
    "## 6. [2 балла] Удалите созданные папки."
   ]
  },
  {
   "cell_type": "markdown",
   "id": "f144dc05",
   "metadata": {},
   "source": [
    "`hdfs dfs -rm -r /test_dir`"
   ]
  },
  {
   "cell_type": "markdown",
   "id": "a50c185c",
   "metadata": {},
   "source": [
    "<pre>root@40061371a4a7:/# hdfs dfs -rm -r /test_dir\n",
    "Deleted /test_dir\n",
    "</pre>"
   ]
  },
  {
   "cell_type": "markdown",
   "id": "39f124d3",
   "metadata": {},
   "source": [
    "## Часть 2  \n",
    "См. флаги “-put”, “-cat”, “-tail”, “-cp”"
   ]
  },
  {
   "cell_type": "markdown",
   "id": "7ec907e2",
   "metadata": {},
   "source": [
    "## 1. [3 балла] Скопируйте любой в новую папку на HDFS"
   ]
  },
  {
   "cell_type": "markdown",
   "id": "ed3421b9",
   "metadata": {},
   "source": [
    "```for ((n=0;n<30;n++)); do echo $n; done > test.txt\n",
    "hdfs dfs -mkdir /test_dir  \n",
    "hdfs dfs -put -p test.txt /test_dir/```"
   ]
  },
  {
   "cell_type": "markdown",
   "id": "48508b2d",
   "metadata": {},
   "source": [
    "<pre>root@40061371a4a7:/# for ((n=0;n<30;n++)); do echo $n; done > test.txt\n",
    "root@40061371a4a7:/# hdfs dfs -mkdir /test_dir  \n",
    "root@40061371a4a7:/# hdfs dfs -put -p test.txt /test_dir/\n",
    "</pre>"
   ]
  },
  {
   "cell_type": "markdown",
   "id": "681cc605",
   "metadata": {},
   "source": [
    "## 2. [3 балла] Выведите содержимое HDFS-файла на экран."
   ]
  },
  {
   "cell_type": "markdown",
   "id": "9a4eb4a7",
   "metadata": {},
   "source": [
    "`hdfs dfs -cat /test_dir/test.txt`"
   ]
  },
  {
   "cell_type": "markdown",
   "id": "76db411d",
   "metadata": {},
   "source": [
    "<pre>root@40061371a4a7:/# hdfs dfs -cat /test_dir/test.txt\n",
    "0\n",
    "1\n",
    "2\n",
    "3\n",
    "4\n",
    "5\n",
    "6\n",
    "7\n",
    "8\n",
    "9\n",
    "10\n",
    "11\n",
    "12\n",
    "13\n",
    "14\n",
    "15\n",
    "16\n",
    "17\n",
    "18\n",
    "19\n",
    "20\n",
    "21\n",
    "22\n",
    "23\n",
    "24\n",
    "25\n",
    "26\n",
    "27\n",
    "28\n",
    "29\n",
    "</pre>"
   ]
  },
  {
   "cell_type": "markdown",
   "id": "d75022e0",
   "metadata": {},
   "source": [
    "## 3. [3 балла] Выведите содержимое нескольких последних строчек HDFS-файла на экран."
   ]
  },
  {
   "cell_type": "markdown",
   "id": "d60764db",
   "metadata": {},
   "source": [
    " `hdfs dfs -tail /test_dir/test.txt`"
   ]
  },
  {
   "cell_type": "markdown",
   "id": "94724d88",
   "metadata": {},
   "source": [
    "<pre>root@40061371a4a7:/#  hdfs dfs -tail /test_dir/test.txt                        \n",
    "0\n",
    "1\n",
    "2\n",
    "3\n",
    "4\n",
    "5\n",
    "6\n",
    "7\n",
    "8\n",
    "9\n",
    "10\n",
    "11\n",
    "12\n",
    "13\n",
    "14\n",
    "15\n",
    "16\n",
    "17\n",
    "18\n",
    "19\n",
    "20\n",
    "21\n",
    "22\n",
    "23\n",
    "24\n",
    "25\n",
    "26\n",
    "27\n",
    "28\n",
    "29\n",
    "</pre>"
   ]
  },
  {
   "cell_type": "markdown",
   "id": "be1f1ea4",
   "metadata": {},
   "source": [
    "## 4. [3 балла] Выведите содержимое нескольких первых строчек HDFS-файла на экран."
   ]
  },
  {
   "cell_type": "markdown",
   "id": "31335978",
   "metadata": {},
   "source": [
    "`hdfs dfs -cat /test_dir/test.txt | head`"
   ]
  },
  {
   "cell_type": "markdown",
   "id": "e834b24b",
   "metadata": {},
   "source": [
    "<pre>root@40061371a4a7:/# hdfs dfs -cat /test_dir/test.txt | head\n",
    "0\n",
    "1\n",
    "2\n",
    "3\n",
    "4\n",
    "5\n",
    "6\n",
    "7\n",
    "8\n",
    "9\n",
    "</pre>"
   ]
  },
  {
   "cell_type": "markdown",
   "id": "a01db05d",
   "metadata": {},
   "source": [
    "## 5. [3 балла] Переместите копию файла в HDFS на новую локацию."
   ]
  },
  {
   "cell_type": "markdown",
   "id": "acd63cee",
   "metadata": {},
   "source": [
    "```hdfs dfs -mkdir /test_dir2  \n",
    "hdfs dfs -cp /test_dir/test.txt test_dir2/```"
   ]
  },
  {
   "cell_type": "markdown",
   "id": "27479625",
   "metadata": {},
   "source": [
    "<pre>root@40061371a4a7:/# hdfs dfs -mkdir /test_dir2  \n",
    "root@40061371a4a7:/# hdfs dfs -cp /test_dir/test.txt /test_dir2/\n",
    "root@40061371a4a7:/# hdfs dfs -ls /test_dir2/\n",
    "Found 1 items\n",
    "-rw-r--r--   3 root supergroup         80 2022-10-20 23:51 /test_dir2/test.txt\n",
    "</pre>"
   ]
  },
  {
   "cell_type": "markdown",
   "id": "bd725e81",
   "metadata": {},
   "source": [
    "## Часть 3  \n",
    "Полезные флаги:  \n",
    "● Для “hdfs dfs”, см. “-setrep -w”   \n",
    "● hdfs fsck /path -files - blocks -locations"
   ]
  },
  {
   "cell_type": "markdown",
   "id": "de77a709",
   "metadata": {},
   "source": [
    "## 2. [4 баллов] Изменить replication factor для файла. Как долго занимает время на увеличение /\n",
    "уменьшение числа реплик для файла?"
   ]
  },
  {
   "cell_type": "markdown",
   "id": "9839a350",
   "metadata": {},
   "source": [
    "```\n",
    "hdfs dfs -setrep -w 1 /test_dir2/test.txt  \n",
    "hdfs dfs -setrep -w 3 /test_dir2/test.txt\n",
    "```"
   ]
  },
  {
   "cell_type": "markdown",
   "id": "582312f7",
   "metadata": {},
   "source": [
    "<pre>Replication 1 set: /test_dir2/test.txt\n",
    "Waiting for /test_dir2/test.txt ...\n",
    "WARNING: the waiting time may be long for DECREASING the number of replications.\n",
    ".. done\n",
    "root@40061371a4a7:/# hdfs dfs -setrep -w 3 /test_dir2/test.txt\n",
    "Replication 3 set: /test_dir2/test.txt\n",
    "Waiting for /test_dir2/test.txt .... done\n",
    "root@40061371a4a7:/# \n",
    "</pre>"
   ]
  },
  {
   "cell_type": "markdown",
   "id": "67b64e99",
   "metadata": {},
   "source": [
    "20 секунд уменьшение, и 10 - увеличение.   \n",
    "Отработало довольно быстро, но, полагаю, для больших файлов увеличение replication factor будет работать значительно дольше (ведь физически большее число данных скопировать на добавленные датаноды), а уменьшение - несколько быстрее, (ведь надо просто почисить несколько датанод).  \n",
    "Почему для мелких файлов, получилось иначе (уменьшение шло дольше увеличения) - предположу, что уменьшение требует большего числа запросоав между датанодой и неймнодой, что и заняло большее число времени, а само копирование и удаление файлов на  датанодах на фоне этих операций тратило меньше времени."
   ]
  },
  {
   "cell_type": "markdown",
   "id": "181fa686",
   "metadata": {},
   "source": [
    "## 3. [4 баллов] Найдите информацию по файлу, блокам и их расположениям с помощью “hdfs fsck”"
   ]
  },
  {
   "cell_type": "markdown",
   "id": "420a560b",
   "metadata": {},
   "source": [
    "`hdfs fsck /test_dir2/test.txt -files -blocks -locations`"
   ]
  },
  {
   "cell_type": "markdown",
   "id": "9fc1ddb0",
   "metadata": {},
   "source": [
    "<pre>root@40061371a4a7:/# hdfs fsck /test_dir2/test.txt -files -blocks -locations\n",
    "Connecting to namenode via http://namenode:9870/fsck?ugi=root&amp;files=1&amp;blocks=1&amp;locations=1&amp;path=%2Ftest_dir2%2Ftest.txt\n",
    "FSCK started by root (auth:SIMPLE) from /172.18.0.4 for path /test_dir2/test.txt at Mon Oct 24 00:25:15 UTC 2022\n",
    "/test_dir2/test.txt 80 bytes, replicated: replication=3, 1 block(s):  OK\n",
    "0. BP-1533254573-172.18.0.5-1666535870344:<b>blk_1073741855_1031</b> len=80 Live_repl=3  [DatanodeInfoWithStorage[172.18.0.6:9866,DS-6dbd5db0-564a-4744-a9ec-296f313cfec8,DISK], DatanodeInfoWithStorage[172.18.0.5:9866,DS-1f1a2545-1a80-4f6b-afbc-7a334eba2b9d,DISK], DatanodeInfoWithStorage[172.18.0.3:9866,DS-155c31d0-b604-47e1-a4cc-168b1caba049,DISK]]\n",
    "\n",
    "\n",
    "Status: HEALTHY\n",
    " Number of data-nodes:\t3\n",
    " Number of racks:\t\t1\n",
    " Total dirs:\t\t\t0\n",
    " Total symlinks:\t\t0\n",
    "\n",
    "Replicated Blocks:\n",
    " Total size:\t80 B\n",
    " Total files:\t1\n",
    " Total blocks (validated):\t1 (avg. block size 80 B)\n",
    " Minimally replicated blocks:\t1 (100.0 %)\n",
    " Over-replicated blocks:\t0 (0.0 %)\n",
    " Under-replicated blocks:\t0 (0.0 %)\n",
    " Mis-replicated blocks:\t\t0 (0.0 %)\n",
    " Default replication factor:\t3\n",
    " Average block replication:\t3.0\n",
    " Missing blocks:\t\t0\n",
    " Corrupt blocks:\t\t0\n",
    " Missing replicas:\t\t0 (0.0 %)\n",
    "\n",
    "Erasure Coded Block Groups:\n",
    " Total size:\t0 B\n",
    " Total files:\t0\n",
    " Total block groups (validated):\t0\n",
    " Minimally erasure-coded block groups:\t0\n",
    " Over-erasure-coded block groups:\t0\n",
    " Under-erasure-coded block groups:\t0\n",
    " Unsatisfactory placement block groups:\t0\n",
    " Average block group size:\t0.0\n",
    " Missing block groups:\t\t0\n",
    " Corrupt block groups:\t\t0\n",
    " Missing internal blocks:\t0\n",
    "FSCK ended at Mon Oct 24 00:25:15 UTC 2022 in 2 milliseconds\n",
    "\n",
    "\n",
    "The filesystem under path &apos;/test_dir2/test.txt&apos; is HEALTHY\n",
    "</pre>"
   ]
  },
  {
   "cell_type": "markdown",
   "id": "f51872a7",
   "metadata": {},
   "source": [
    "## 4. [4 баллов] Получите информацию по любому блоку из п.2 с помощью \"hdfs fsck -blockId”."
   ]
  },
  {
   "cell_type": "markdown",
   "id": "13f46ec1",
   "metadata": {},
   "source": [
    "`hdfs fsck -blockId blk_1073741855`"
   ]
  },
  {
   "cell_type": "markdown",
   "id": "54259dc4",
   "metadata": {},
   "source": [
    "<pre>root@40061371a4a7:/# hdfs fsck -blockId blk_1073741855     \n",
    "Connecting to namenode via http://namenode:9870/fsck?ugi=root&amp;blockId=blk_1073741855+&amp;path=%2F\n",
    "FSCK started by root (auth:SIMPLE) from /172.18.0.4 at Mon Oct 24 00:26:26 UTC 2022\n",
    "\n",
    "Block Id: blk_1073741855\n",
    "Block belongs to: /test_dir2/test.txt\n",
    "No. of Expected Replica: 3\n",
    "No. of live Replica: 3\n",
    "No. of excess Replica: 0\n",
    "No. of stale Replica: 0\n",
    "No. of decommissioned Replica: 0\n",
    "No. of decommissioning Replica: 0\n",
    "No. of corrupted Replica: 0\n",
    "Block replica on datanode/rack: b23ebee7842d/default-rack is HEALTHY\n",
    "Block replica on datanode/rack: 2fda957ccde4/default-rack is HEALTHY\n",
    "Block replica on datanode/rack: 131bb5716f21/default-rack is HEALTHY\n",
    "</pre>"
   ]
  },
  {
   "cell_type": "markdown",
   "id": "3af7e683",
   "metadata": {},
   "source": []
  }
 ],
 "metadata": {
  "kernelspec": {
   "display_name": "Python 3 (ipykernel)",
   "language": "python",
   "name": "python3"
  },
  "language_info": {
   "codemirror_mode": {
    "name": "ipython",
    "version": 3
   },
   "file_extension": ".py",
   "mimetype": "text/x-python",
   "name": "python",
   "nbconvert_exporter": "python",
   "pygments_lexer": "ipython3",
   "version": "3.9.12"
  }
 },
 "nbformat": 4,
 "nbformat_minor": 5
}
